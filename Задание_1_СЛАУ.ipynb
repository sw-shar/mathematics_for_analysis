{
  "nbformat": 4,
  "nbformat_minor": 0,
  "metadata": {
    "colab": {
      "name": "Задание 1 - математика.ipynb",
      "provenance": [],
      "collapsed_sections": [],
      "authorship_tag": "ABX9TyNW9N/DwIY5HFrA2Vb8NgiO",
      "include_colab_link": true
    },
    "kernelspec": {
      "display_name": "Python 3",
      "name": "python3"
    },
    "language_info": {
      "name": "python"
    }
  },
  "cells": [
    {
      "cell_type": "markdown",
      "metadata": {
        "id": "view-in-github",
        "colab_type": "text"
      },
      "source": [
        "<a href=\"https://colab.research.google.com/github/sw-shar/mathematics_for_analysis/blob/main/%D0%97%D0%B0%D0%B4%D0%B0%D0%BD%D0%B8%D0%B5_1_%D0%A1%D0%9B%D0%90%D0%A3.ipynb\" target=\"_parent\"><img src=\"https://colab.research.google.com/assets/colab-badge.svg\" alt=\"Open In Colab\"/></a>"
      ]
    },
    {
      "cell_type": "markdown",
      "metadata": {
        "id": "2IgZivM5M_zu"
      },
      "source": [
        "## Задача 1\n",
        "\n",
        "Посчитайте число обусловленности для матрицы системы линейных уравнений:"
      ]
    },
    {
      "cell_type": "code",
      "metadata": {
        "id": "EFPMh4CmSod2"
      },
      "source": [
        "from scipy.linalg import svd\n",
        "import numpy as np"
      ],
      "execution_count": 279,
      "outputs": []
    },
    {
      "cell_type": "code",
      "metadata": {
        "colab": {
          "base_uri": "https://localhost:8080/"
        },
        "id": "ogIrVhzSLqf8",
        "outputId": "67aa8f25-e13c-4e11-9e11-a04f774c9b3d"
      },
      "source": [
        "A = np.array([[4,4,5,5.0],[2,0,3,-1],[1,1,-5,0],[0,3,2,0]]) # Матрица (левая часть системы)\n",
        "V = np.array([0,10,-10,1]) # вектор ответов\n",
        "\n",
        "best = np.linalg.solve(A, V) #решим систему\n",
        "best"
      ],
      "execution_count": 280,
      "outputs": [
        {
          "output_type": "execute_result",
          "data": {
            "text/plain": [
              "array([ 1., -1.,  2., -2.])"
            ]
          },
          "metadata": {},
          "execution_count": 280
        }
      ]
    },
    {
      "cell_type": "markdown",
      "metadata": {
        "id": "5ExDaumVMxUj"
      },
      "source": [
        "Решение для оригинальной матрицы:\n",
        "* x1=1, x2=-1, x3=2, x4=-2"
      ]
    },
    {
      "cell_type": "code",
      "metadata": {
        "colab": {
          "base_uri": "https://localhost:8080/"
        },
        "id": "EBZ36WEINE4g",
        "outputId": "db19fc7f-9d08-489a-fa7a-03842121f41c"
      },
      "source": [
        "# Изменим величину столбца (0, 10, -10, 1) на 0.1 в большую сторону\n",
        "\n",
        "v_right = V+0.1\n",
        "\n",
        "x_right = np.linalg.solve(A, v_right) #решим систему\n",
        "x_right"
      ],
      "execution_count": 281,
      "outputs": [
        {
          "output_type": "execute_result",
          "data": {
            "text/plain": [
              "array([ 1.03931034, -0.96344828,  1.99517241, -2.03586207])"
            ]
          },
          "metadata": {},
          "execution_count": 281
        }
      ]
    },
    {
      "cell_type": "code",
      "metadata": {
        "colab": {
          "base_uri": "https://localhost:8080/"
        },
        "id": "Vmi-IL75NSP0",
        "outputId": "6d04a95c-1bf8-4334-bc0a-9341c3348bc0"
      },
      "source": [
        "# Изменим величину столбца (0, 10, -10, 1) на 0.1 в меньшую сторону\n",
        "\n",
        "v_left = V-0.1\n",
        "\n",
        "x_left = np.linalg.solve(A, v_left) #решим систему\n",
        "x_left"
      ],
      "execution_count": 282,
      "outputs": [
        {
          "output_type": "execute_result",
          "data": {
            "text/plain": [
              "array([ 0.96068966, -1.03655172,  2.00482759, -1.96413793])"
            ]
          },
          "metadata": {},
          "execution_count": 282
        }
      ]
    },
    {
      "cell_type": "code",
      "metadata": {
        "colab": {
          "base_uri": "https://localhost:8080/"
        },
        "id": "ruscSzL4O6xB",
        "outputId": "df70712e-b6cd-45dc-a9ca-b8280ad8471a"
      },
      "source": [
        "# абсолютная погрешность x_right\n",
        "abs_right = sum(abs(best - x_right))\n",
        "\n",
        "# абсолютная погрешность x_left\n",
        "abs_left= sum(abs(best -  x_left))\n",
        "\n",
        "\n",
        "print(\"относительная погрешность справа\", round(abs_right / sum(abs(best))*100,4,),'%')\n",
        "print(\"относительная погрешность слева\", round(abs_left / sum(abs(best))*100,4),'%')"
      ],
      "execution_count": 283,
      "outputs": [
        {
          "output_type": "stream",
          "name": "stdout",
          "text": [
            "относительная погрешность справа 1.9425 %\n",
            "относительная погрешность слева 1.9425 %\n"
          ]
        }
      ]
    },
    {
      "cell_type": "markdown",
      "metadata": {
        "id": "2jDbxr9dcHLs"
      },
      "source": [
        "Получилось что при изменении на 2 процента вектора ответов приблизительно на это мы и получили относительную погрешность. Изменение вправо или влево не дало статистически значимой разницы."
      ]
    },
    {
      "cell_type": "code",
      "metadata": {
        "colab": {
          "base_uri": "https://localhost:8080/"
        },
        "id": "qfiknJrPmDCO",
        "outputId": "1426489b-5547-49d8-b357-a00ec147603d"
      },
      "source": [
        "# увеличим значения в одном столбце матрицы на 0.1\n",
        "A[:,1] = A[:,1]+0.1\n",
        "A"
      ],
      "execution_count": 284,
      "outputs": [
        {
          "output_type": "execute_result",
          "data": {
            "text/plain": [
              "array([[ 4. ,  4.1,  5. ,  5. ],\n",
              "       [ 2. ,  0.1,  3. , -1. ],\n",
              "       [ 1. ,  1.1, -5. ,  0. ],\n",
              "       [ 0. ,  3.1,  2. ,  0. ]])"
            ]
          },
          "metadata": {},
          "execution_count": 284
        }
      ]
    },
    {
      "cell_type": "code",
      "metadata": {
        "colab": {
          "base_uri": "https://localhost:8080/"
        },
        "id": "k96QWUH_Zvcy",
        "outputId": "e54b5363-5518-4d3c-be4b-07784830eacb"
      },
      "source": [
        "A_inv_bad_V = np.linalg.inv(A) @ V\n",
        "A_inv_bad_V"
      ],
      "execution_count": 285,
      "outputs": [
        {
          "output_type": "execute_result",
          "data": {
            "text/plain": [
              "array([ 1.03792415, -0.96473719,  1.99534265, -2.03459747])"
            ]
          },
          "metadata": {},
          "execution_count": 285
        }
      ]
    },
    {
      "cell_type": "code",
      "metadata": {
        "colab": {
          "base_uri": "https://localhost:8080/"
        },
        "id": "3iqnGgemfvXK",
        "outputId": "c16a91c7-74a8-460d-ba57-25e858d26370"
      },
      "source": [
        "# абсолютная погрешность \n",
        "abs_V = sum(abs(best - A_inv_bad_V))\n",
        "\n",
        "print(\"относительная погрешность при изменении значений обратной матрицы на 0.1\", round(abs_V / sum(abs(best))*100,4,),'%')"
      ],
      "execution_count": 286,
      "outputs": [
        {
          "output_type": "stream",
          "name": "stdout",
          "text": [
            "относительная погрешность при изменении значений обратной матрицы на 0.1 1.874 %\n"
          ]
        }
      ]
    },
    {
      "cell_type": "markdown",
      "metadata": {
        "id": "SSEvWTWPnc44"
      },
      "source": [
        "система является «хорошо обусловленной», так как малые изменения, внесенные в коэффициентах матрицы или в правую часть, повлекли за собой малые изменения в решении системы."
      ]
    },
    {
      "cell_type": "markdown",
      "metadata": {
        "id": "aq9GZJV7nrCW"
      },
      "source": [
        "## Задача 2\n",
        "\n",
        "Проделайте аналогичные действия из задачи 1 для следующей системы."
      ]
    },
    {
      "cell_type": "code",
      "metadata": {
        "colab": {
          "base_uri": "https://localhost:8080/"
        },
        "id": "60uPXXUPqYgq",
        "outputId": "78e26382-ad44-4c0e-a7e9-f84bdd5486fb"
      },
      "source": [
        "A2 = np.array([[2.0,-1,3,2],[3,3,3,2],[3,-1,-1,-2],[3,-1,3,-1]]) # Матрица (левая часть системы)\n",
        "V2 = np.array([4,6,6,6]) # вектор ответов\n",
        "\n",
        "best2 = np.linalg.solve(A2, V2) #решим систему\n",
        "best2"
      ],
      "execution_count": 287,
      "outputs": [
        {
          "output_type": "execute_result",
          "data": {
            "text/plain": [
              "array([ 2.00000000e+00, -6.24500451e-17, -2.08166817e-17,  8.32667268e-17])"
            ]
          },
          "metadata": {},
          "execution_count": 287
        }
      ]
    },
    {
      "cell_type": "code",
      "metadata": {
        "colab": {
          "base_uri": "https://localhost:8080/"
        },
        "id": "VEAdizZCp-YE",
        "outputId": "e8b5ab78-771d-486b-8668-98dd4699f77a"
      },
      "source": [
        "np.linalg.matrix_rank(A2)"
      ],
      "execution_count": 288,
      "outputs": [
        {
          "output_type": "execute_result",
          "data": {
            "text/plain": [
              "4"
            ]
          },
          "metadata": {},
          "execution_count": 288
        }
      ]
    },
    {
      "cell_type": "code",
      "metadata": {
        "colab": {
          "base_uri": "https://localhost:8080/"
        },
        "id": "8UIywHSNqHwM",
        "outputId": "dda6cb0c-ad6b-4368-8143-11d14834e49e"
      },
      "source": [
        "np.linalg.det(A2)"
      ],
      "execution_count": 289,
      "outputs": [
        {
          "output_type": "execute_result",
          "data": {
            "text/plain": [
              "127.99999999999997"
            ]
          },
          "metadata": {},
          "execution_count": 289
        }
      ]
    },
    {
      "cell_type": "code",
      "metadata": {
        "colab": {
          "base_uri": "https://localhost:8080/"
        },
        "id": "YSl2_oYefvS6",
        "outputId": "1678ea8a-7e73-4885-80db-4b9cb6199b9c"
      },
      "source": [
        "np.linalg.norm((A2), ord=2)"
      ],
      "execution_count": 290,
      "outputs": [
        {
          "output_type": "execute_result",
          "data": {
            "text/plain": [
              "7.276128889583064"
            ]
          },
          "metadata": {},
          "execution_count": 290
        }
      ]
    },
    {
      "cell_type": "code",
      "metadata": {
        "colab": {
          "base_uri": "https://localhost:8080/"
        },
        "id": "aKd0sDW7q9fY",
        "outputId": "d904166d-2001-4ee5-f0a0-c3c9ccab1570"
      },
      "source": [
        "v_right2 = V2+0.1\n",
        "\n",
        "x_right2 = np.linalg.solve(A2, v_right2) #решим систему\n",
        "x_right2\n",
        "\n",
        "v_left2 = V2-0.1\n",
        "\n",
        "x_left2 = np.linalg.solve(A2, v_left2) #решим систему\n",
        "x_left2"
      ],
      "execution_count": 291,
      "outputs": [
        {
          "output_type": "execute_result",
          "data": {
            "text/plain": [
              "array([ 1.9625  ,  0.009375,  0.003125, -0.0125  ])"
            ]
          },
          "metadata": {},
          "execution_count": 291
        }
      ]
    },
    {
      "cell_type": "code",
      "metadata": {
        "colab": {
          "base_uri": "https://localhost:8080/"
        },
        "id": "Pn7TZbSurHGk",
        "outputId": "0b36cf07-4b67-420c-86d8-2772a4759530"
      },
      "source": [
        "# абсолютная погрешность x_right\n",
        "abs_right2 = sum(abs(best2 - x_right2))\n",
        "\n",
        "# абсолютная погрешность x_left\n",
        "abs_left2= sum(abs(best2 -  x_left2))\n",
        "\n",
        "\n",
        "print(\"относительная погрешность справа\", round(abs_right2 / sum(abs(best2))*100,4,),'%')\n",
        "print(\"относительная погрешность слева\", round(abs_left2 / sum(abs(best2))*100,4),'%')"
      ],
      "execution_count": 292,
      "outputs": [
        {
          "output_type": "stream",
          "name": "stdout",
          "text": [
            "относительная погрешность справа 3.125 %\n",
            "относительная погрешность слева 3.125 %\n"
          ]
        }
      ]
    },
    {
      "cell_type": "code",
      "metadata": {
        "colab": {
          "base_uri": "https://localhost:8080/"
        },
        "id": "OzTNHaf-rP4u",
        "outputId": "f4fe033d-b023-4754-f7eb-81e62f4a171d"
      },
      "source": [
        "# увеличим значения в первом столбце матрицы на 0.1\n",
        "A2[:,0] = A2[:,0]+0.1\n",
        "A2\n",
        "\n",
        "A_inv_bad_V2 = np.linalg.inv(A2) @ V2\n",
        "A_inv_bad_V2\n",
        "\n",
        "# абсолютная погрешность \n",
        "abs_V2 = sum(abs(best2 - A_inv_bad_V2))\n",
        "\n",
        "print(\"относительная погрешность при изменении значений обратной матрицы на 0.1\", round(abs_V2 / sum(abs(best2))*100,4,),'%')"
      ],
      "execution_count": 293,
      "outputs": [
        {
          "output_type": "stream",
          "name": "stdout",
          "text": [
            "относительная погрешность при изменении значений обратной матрицы на 0.1 6.0241 %\n"
          ]
        }
      ]
    },
    {
      "cell_type": "markdown",
      "metadata": {
        "id": "kFu7EmX8uAnc"
      },
      "source": [
        "Поскольку только х1 имеет значение в решении, изменим первый слолбец на 0.1 и получаем что если остальные х принимают значение 0 , тогда размер влияние езменение данных одного столбца - существенно выше - чем при именении вектора ответов. 3.125 вектор и 6 % матрица\n"
      ]
    },
    {
      "cell_type": "markdown",
      "metadata": {
        "id": "vaKCJuchPcir"
      },
      "source": [
        "## Задача 3\n",
        "\n",
        "Замените в следующей системе линейных уравнений значения коэффициентов на 0.01 в большую сторону и на 0.01 в меньшую сторону"
      ]
    },
    {
      "cell_type": "code",
      "metadata": {
        "id": "Vs-u2JzMPfgd"
      },
      "source": [
        "A3 = np.array([[1,2,-4],[2,1,-5],[1,-1,-1]]) # Матрица (левая часть системы)\n",
        "V3 = np.array([1,-1,-2]) # вектор ответов"
      ],
      "execution_count": 294,
      "outputs": []
    },
    {
      "cell_type": "code",
      "metadata": {
        "colab": {
          "base_uri": "https://localhost:8080/"
        },
        "id": "R6wIFiaoYrnP",
        "outputId": "ae2fc9ce-1eb8-47d5-db7e-0574e2b8d7cf"
      },
      "source": [
        "np.linalg.matrix_rank(A3)"
      ],
      "execution_count": 295,
      "outputs": [
        {
          "output_type": "execute_result",
          "data": {
            "text/plain": [
              "2"
            ]
          },
          "metadata": {},
          "execution_count": 295
        }
      ]
    },
    {
      "cell_type": "code",
      "metadata": {
        "colab": {
          "base_uri": "https://localhost:8080/"
        },
        "id": "2uKIaxMKYyMk",
        "outputId": "0cfa6bda-5ff6-49b8-bd21-492656159b98"
      },
      "source": [
        "np.linalg.det(A3)"
      ],
      "execution_count": 296,
      "outputs": [
        {
          "output_type": "execute_result",
          "data": {
            "text/plain": [
              "0.0"
            ]
          },
          "metadata": {},
          "execution_count": 296
        }
      ]
    },
    {
      "cell_type": "code",
      "metadata": {
        "colab": {
          "base_uri": "https://localhost:8080/"
        },
        "id": "neV5WR_Df2Mj",
        "outputId": "91e404aa-399c-4943-d75d-bb45c26ecdc4"
      },
      "source": [
        "np.linalg.norm((A3), ord=2)"
      ],
      "execution_count": 297,
      "outputs": [
        {
          "output_type": "execute_result",
          "data": {
            "text/plain": [
              "7.128236934865544"
            ]
          },
          "metadata": {},
          "execution_count": 297
        }
      ]
    },
    {
      "cell_type": "markdown",
      "metadata": {
        "id": "KHA9XXP1Y6e2"
      },
      "source": [
        "Определитель матрицы равен нулю и ранг матрицы системы меньше числа неизвестных  - система имеет бесконечно много решений"
      ]
    },
    {
      "cell_type": "code",
      "metadata": {
        "id": "nNcMLTSeS0C2"
      },
      "source": [
        "A3_big = A3 +0.01\n",
        "A3_small = A3 -0.01"
      ],
      "execution_count": 298,
      "outputs": []
    },
    {
      "cell_type": "code",
      "metadata": {
        "colab": {
          "base_uri": "https://localhost:8080/"
        },
        "id": "DVEJyZYrZQxw",
        "outputId": "fa347645-e98e-4ce9-c127-ef6759f3ff7b"
      },
      "source": [
        "np.linalg.matrix_rank(A3_big)\n",
        "np.linalg.det(A3_big)"
      ],
      "execution_count": 299,
      "outputs": [
        {
          "output_type": "execute_result",
          "data": {
            "text/plain": [
              "-0.12000000000000123"
            ]
          },
          "metadata": {},
          "execution_count": 299
        }
      ]
    },
    {
      "cell_type": "code",
      "metadata": {
        "colab": {
          "base_uri": "https://localhost:8080/"
        },
        "id": "XrlPZJ9vTFXS",
        "outputId": "91b437cb-9690-462e-bebc-081f9707b0c1"
      },
      "source": [
        "# найдем норму обратных матриц\n",
        "norma_A3_big = abs(np.linalg.inv(A3_big)).max()\n",
        "\n",
        "norma_A3_small = abs(np.linalg.inv(A3_small)).max()\n",
        "\n",
        "norma_A3_big"
      ],
      "execution_count": 300,
      "outputs": [
        {
          "output_type": "execute_result",
          "data": {
            "text/plain": [
              "49.999999999999474"
            ]
          },
          "metadata": {},
          "execution_count": 300
        }
      ]
    },
    {
      "cell_type": "code",
      "metadata": {
        "colab": {
          "base_uri": "https://localhost:8080/"
        },
        "id": "wiyfBbe0gaEo",
        "outputId": "b68666c4-a133-468c-d393-d7d714e03ec2"
      },
      "source": [
        "# или найдем норму с помощью numpy\n",
        "np.linalg.norm(np.linalg.inv(A3_big), ord=2)"
      ],
      "execution_count": 301,
      "outputs": [
        {
          "output_type": "execute_result",
          "data": {
            "text/plain": [
              "105.83254129242056"
            ]
          },
          "metadata": {},
          "execution_count": 301
        }
      ]
    },
    {
      "cell_type": "markdown",
      "metadata": {
        "id": "m4Rn0wlviCK6"
      },
      "source": [
        "Посмотрим на число обусловленности каждой из матриц"
      ]
    },
    {
      "cell_type": "code",
      "metadata": {
        "colab": {
          "base_uri": "https://localhost:8080/"
        },
        "id": "6n31Bye6h_tP",
        "outputId": "099dd5e0-4e17-4b92-82ce-24e6d26882c3"
      },
      "source": [
        "print('Оригинал', np.linalg.cond(A3) )\n",
        "\n",
        "print('A3_big', np.linalg.cond(A3_big) )\n",
        "\n",
        "print('A3_big', np.linalg.cond(A3_small) )"
      ],
      "execution_count": 302,
      "outputs": [
        {
          "output_type": "stream",
          "name": "stdout",
          "text": [
            "Оригинал 2.6334520172237944e+16\n",
            "A3_big 753.8831931033308\n",
            "A3_big 758.2886236166106\n"
          ]
        }
      ]
    },
    {
      "cell_type": "code",
      "metadata": {
        "colab": {
          "base_uri": "https://localhost:8080/"
        },
        "id": "Lmns9I0kjJkJ",
        "outputId": "c491b645-4467-4741-93be-351c361324fb"
      },
      "source": [
        "np.linalg.solve(A3_big, V3)"
      ],
      "execution_count": 303,
      "outputs": [
        {
          "output_type": "execute_result",
          "data": {
            "text/plain": [
              "array([-1.00000000e+00,  1.00000000e+00,  9.97709378e-15])"
            ]
          },
          "metadata": {},
          "execution_count": 303
        }
      ]
    },
    {
      "cell_type": "code",
      "metadata": {
        "colab": {
          "base_uri": "https://localhost:8080/"
        },
        "id": "a7UTYgHMjLwQ",
        "outputId": "354e0170-d14f-4142-aaf0-cf78f2c27d43"
      },
      "source": [
        "np.linalg.solve(A3_small, V3)"
      ],
      "execution_count": 304,
      "outputs": [
        {
          "output_type": "execute_result",
          "data": {
            "text/plain": [
              "array([-1.00000000e+00,  1.00000000e+00, -2.13703985e-15])"
            ]
          },
          "metadata": {},
          "execution_count": 304
        }
      ]
    },
    {
      "cell_type": "markdown",
      "metadata": {
        "id": "9fxeMxfggeaL"
      },
      "source": [
        "Если взять число обусловленности изначальной матрицы - то оно уходит в бесконечность, а  исправленной матрицы мы видим что она выходит за пределы 100 но уже не бесконечно"
      ]
    },
    {
      "cell_type": "code",
      "metadata": {
        "colab": {
          "base_uri": "https://localhost:8080/"
        },
        "id": "ueBsKsAtk1Hj",
        "outputId": "e6791b4e-0392-47e9-c2b0-e5071be009a2"
      },
      "source": [
        "print('Оригинал из задачи 1', np.linalg.cond(A) )"
      ],
      "execution_count": 305,
      "outputs": [
        {
          "output_type": "stream",
          "name": "stdout",
          "text": [
            "Оригинал из задачи 1 4.35692080130134\n"
          ]
        }
      ]
    },
    {
      "cell_type": "markdown",
      "metadata": {
        "id": "lyYbxQC6k7LM"
      },
      "source": [
        "Матрицы, которые вырожденные, даже с изменениями коэффицентов дают большое число обусловденности в отличии от хороших матриц."
      ]
    },
    {
      "cell_type": "markdown",
      "metadata": {
        "id": "KifXPi14lOp0"
      },
      "source": [
        "## Задача 4\n",
        "\n",
        "реализация метода Якоби"
      ]
    },
    {
      "cell_type": "code",
      "metadata": {
        "id": "f5QVz_vhnfQz"
      },
      "source": [
        "A4 = np.array([[8,1,-4],[2,-6,1],[-1,1,4]])\n",
        "V4=np.array([6,-9,5])"
      ],
      "execution_count": 306,
      "outputs": []
    },
    {
      "cell_type": "markdown",
      "metadata": {
        "id": "EfeGAfkhttD5"
      },
      "source": [
        "решим СЛАУ классическим методом"
      ]
    },
    {
      "cell_type": "code",
      "metadata": {
        "colab": {
          "base_uri": "https://localhost:8080/"
        },
        "id": "CN0w8TNZttoc",
        "outputId": "e5a456e9-73e2-48fd-d44f-a30a8e20a150"
      },
      "source": [
        "X4=np.linalg.solve(A4, V4)\n",
        "X4"
      ],
      "execution_count": 307,
      "outputs": [
        {
          "output_type": "execute_result",
          "data": {
            "text/plain": [
              "array([1., 2., 1.])"
            ]
          },
          "metadata": {},
          "execution_count": 307
        }
      ]
    },
    {
      "cell_type": "code",
      "metadata": {
        "id": "jpDgQfAnw8Nf"
      },
      "source": [
        "from pprint import pprint\n",
        "from numpy import array, zeros, diag, diagflat, dot"
      ],
      "execution_count": 308,
      "outputs": []
    },
    {
      "cell_type": "code",
      "metadata": {
        "id": "V5SDBUhWse0K",
        "colab": {
          "base_uri": "https://localhost:8080/",
          "height": 442
        },
        "outputId": "aa9e0fae-1d74-4392-89ad-b071d6a89d92"
      },
      "source": [
        "def jacobi(A,b,N,X4,x=None):\n",
        "                                                                                                                                                                   \n",
        "    D = diag(A)\n",
        "    R = A - diagflat(D)\n",
        "\n",
        "    s = []                                                                                                                                                                         \n",
        "    for i in range(N):\n",
        "        x = (b - dot(R,x)) / D\n",
        "        s.append(x)\n",
        "    \n",
        "    solutions = []\n",
        "    for i in range(N):\n",
        "      solutions.append(abs(s[i]-X4).max())\n",
        "    return solutions\n",
        "N=10\n",
        "sol_0 = jacobi(A4,V4,N,X4,x=array([0,0,0]))\n",
        "sol_1 = jacobi(A4,V4,N,X4,x=array([0.5,0.5,0.5]))\n",
        "sol_11 = jacobi(A4,V4,N,X4,x=array([1,1,1]))\n",
        "\n",
        "import matplotlib.pyplot as plt\n",
        "x = [i for i in range(1,N+1)]\n",
        "plt.figure(figsize=(12, 7))\n",
        "plt.plot(x, sol_0,'o-r', alpha=0.7, label=\"0,0,0\",)\n",
        "plt.plot(x, sol_1,'o-b', alpha=0.7, label=\"0.5,0.5,0.5\",)\n",
        "plt.plot(x, sol_11,'o-g', alpha=0.7, label=\"1,1,1\",)\n",
        "plt.xlabel('Ось x')\n",
        "plt.ylabel('Ось y')\n",
        "plt.legend()\n",
        "plt.grid(True)\n",
        "plt.show()"
      ],
      "execution_count": 309,
      "outputs": [
        {
          "output_type": "display_data",
          "data": {
            "image/png": "[encoded data removed]",
            "text/plain": [
              "<Figure size 864x504 with 1 Axes>"
            ]
          },
          "metadata": {
            "needs_background": "light"
          }
        }
      ]
    },
    {
      "cell_type": "markdown",
      "metadata": {
        "id": "WsdvAX_2x9LC"
      },
      "source": [
        "Метод сходиться, при этом различные начальные точки - дают разную скорость сходимости."
      ]
    },
    {
      "cell_type": "markdown",
      "metadata": {
        "id": "kRqgHLMQ8yQZ"
      },
      "source": [
        "## Задача 5"
      ]
    },
    {
      "cell_type": "markdown",
      "metadata": {
        "id": "inCuHsO_x6Tq"
      },
      "source": [
        " метода Гаусса-Зейделя"
      ]
    },
    {
      "cell_type": "code",
      "metadata": {
        "id": "Md1CZ-oD3LEw"
      },
      "source": [
        "def gauss(A,b,x):\n",
        "  size = len(A)\n",
        "  for a in range(size):\n",
        "    d = b[a]\n",
        "    for i in range(size):     \n",
        "              if(a != i):\n",
        "                  d-=A[a][i] * x[i]\n",
        "        \n",
        "    x[a] = d / A[a][a]\n",
        "  return x\n",
        "\n",
        "def gays(A,b,N,X4,x):\n",
        "  solutions=[]\n",
        "  for i in range(N):            \n",
        "      gauss(A,b,x)\n",
        "     # print(abs(x-X4).max())\n",
        "      solutions.append(abs(x-X4).max())\n",
        "  return solutions\n"
      ],
      "execution_count": 310,
      "outputs": []
    },
    {
      "cell_type": "code",
      "metadata": {
        "id": "uuqVFVYuW6Eq"
      },
      "source": [
        "gs00 = gays(A4,V4,N,X4,x = [0,0,0])\n",
        "gs05 = gays(A4,V4,N,X4,x = [0.5,0.5,0.5])\n",
        "gs01 = gays(A4,V4,N,X4,x = [1,1,1])"
      ],
      "execution_count": 311,
      "outputs": []
    },
    {
      "cell_type": "code",
      "metadata": {
        "colab": {
          "base_uri": "https://localhost:8080/",
          "height": 442
        },
        "id": "LNfwu-zNVbxK",
        "outputId": "61182f9c-4ef5-4adf-9898-5b2975b5bd4c"
      },
      "source": [
        "w = [i for i in range(1,N+1)]\n",
        "plt.figure(figsize=(12, 7))\n",
        "plt.plot(w, gs00,'o-r', alpha=0.7, label=\"0,0,0\",)\n",
        "plt.plot(w, gs05,'o-b', alpha=0.7, label=\"0.5,0.5,0.5\",)\n",
        "plt.plot(w, gs01,'o-g', alpha=0.7, label=\"1,1,1\",)\n",
        "plt.xlabel('Ось x')\n",
        "plt.ylabel('Ось y')\n",
        "plt.legend()\n",
        "plt.grid(True)\n",
        "plt.show()"
      ],
      "execution_count": 312,
      "outputs": [
        {
          "output_type": "display_data",
          "data": {
            "image/png": "[encoded data removed]",
            "text/plain": [
              "<Figure size 864x504 with 1 Axes>"
            ]
          },
          "metadata": {
            "needs_background": "light"
          }
        }
      ]
    },
    {
      "cell_type": "markdown",
      "metadata": {
        "id": "TTmBAPr-YAZA"
      },
      "source": [
        "По методу Гаусса-Зейделя уравнение сходиться быстрее."
      ]
    },
    {
      "cell_type": "markdown",
      "metadata": {
        "id": "TCX7FqUxvYO5"
      },
      "source": [
        "## Задача 6\n",
        "\n",
        "сравнение сходимостей методов Якоби и Гаусса-Зейделя\n"
      ]
    },
    {
      "cell_type": "code",
      "metadata": {
        "id": "JxTs3XsUvh5q",
        "colab": {
          "base_uri": "https://localhost:8080/"
        },
        "outputId": "b2137e09-24c8-45d0-e795-aaba93e2e054"
      },
      "source": [
        "size_matrix = 500\n",
        "A5 = np.eye(size_matrix,size_matrix)+1\n",
        "A5[np.arange(size_matrix), np.arange(size_matrix)] = 1000\n",
        "#A5[np.arange(0,size_matrix), np.arange(size_matrix-1,-1,-1)] = 1000 # может быть и побочную диагональ надо было?\n",
        "A5"
      ],
      "execution_count": 313,
      "outputs": [
        {
          "output_type": "execute_result",
          "data": {
            "text/plain": [
              "array([[1000.,    1.,    1., ...,    1.,    1.,    1.],\n",
              "       [   1., 1000.,    1., ...,    1.,    1.,    1.],\n",
              "       [   1.,    1., 1000., ...,    1.,    1.,    1.],\n",
              "       ...,\n",
              "       [   1.,    1.,    1., ..., 1000.,    1.,    1.],\n",
              "       [   1.,    1.,    1., ...,    1., 1000.,    1.],\n",
              "       [   1.,    1.,    1., ...,    1.,    1., 1000.]])"
            ]
          },
          "metadata": {},
          "execution_count": 313
        }
      ]
    },
    {
      "cell_type": "code",
      "metadata": {
        "id": "BrJ4zkdpdcX7"
      },
      "source": [
        "answer1 = np.ones_like(np.arange(size_matrix)) # вектор из едениц\n",
        "answer2 = np.random.randn(size_matrix) # рандомный вектор\n"
      ],
      "execution_count": 314,
      "outputs": []
    },
    {
      "cell_type": "code",
      "metadata": {
        "colab": {
          "base_uri": "https://localhost:8080/"
        },
        "id": "clTGIhUae9df",
        "outputId": "d65f4ece-a9dc-4170-eceb-2ee469cb5751"
      },
      "source": [
        "# Решим систему встроенным решателем.\n",
        "from scipy.sparse.linalg import spsolve\n",
        "\n",
        "Xa1 = spsolve(A5, answer1)# вектор из едениц\n",
        "Xa2 = spsolve(A5, answer2) # рандомный вектор"
      ],
      "execution_count": 315,
      "outputs": [
        {
          "output_type": "stream",
          "name": "stderr",
          "text": [
            "/usr/local/lib/python3.7/dist-packages/scipy/sparse/linalg/dsolve/linsolve.py:138: SparseEfficiencyWarning: spsolve requires A be CSC or CSR matrix format\n",
            "  SparseEfficiencyWarning)\n"
          ]
        }
      ]
    },
    {
      "cell_type": "code",
      "metadata": {
        "id": "7xJbBK6Tnsyr"
      },
      "source": [
        "x = np.zeros(size_matrix)\n",
        "N=10\n",
        "t_jacobi1= jacobi(A5, answer1,N,Xa1,x)# вектор из едениц\n",
        "t_jacobi2= jacobi(A5, answer2,N,Xa2,x) # рандомный вектор"
      ],
      "execution_count": 316,
      "outputs": []
    },
    {
      "cell_type": "code",
      "metadata": {
        "id": "VD1BGTfrvr4R"
      },
      "source": [
        "x = np.zeros(size_matrix)\n",
        "t_gays1 = gays(A5, answer1,N,Xa1,x) \n",
        "t_gays2 = gays(A5, answer2,N,Xa2,x)# рандомный вектор\n"
      ],
      "execution_count": 317,
      "outputs": []
    },
    {
      "cell_type": "code",
      "metadata": {
        "colab": {
          "base_uri": "https://localhost:8080/",
          "height": 442
        },
        "id": "WqAamotHoK_h",
        "outputId": "4df8ea4e-1c27-446c-ff30-379c6f9af0af"
      },
      "source": [
        "w = [i for i in range(1,N+1)]\n",
        "plt.figure(figsize=(12, 7))\n",
        "plt.plot(w, t_jacobi1,'o-r', alpha=0.7, label=\"Якоби ответы - рандомный вектор\",)\n",
        "plt.plot(w, t_jacobi2,'o-b', alpha=0.7, label=\"Якоби ответы - вектор из едениц\",)\n",
        "plt.plot(w, t_gays1,'o-m', alpha=0.7, label=\"Гаусса-Зейделя ответы - вектор из едениц\",)\n",
        "plt.plot(w, t_gays2,'o-g', alpha=0.7, label=\"Гаусса-Зейделя ответы - рандомный вектор\",)\n",
        "plt.xlabel('Количество итераций')\n",
        "plt.ylabel('Ошибка')\n",
        "plt.legend()\n",
        "plt.grid(True)\n",
        "plt.show()"
      ],
      "execution_count": 319,
      "outputs": [
        {
          "output_type": "display_data",
          "data": {
            "image/png": "[encoded data removed]",
            "text/plain": [
              "<Figure size 864x504 with 1 Axes>"
            ]
          },
          "metadata": {
            "needs_background": "light"
          }
        }
      ]
    },
    {
      "cell_type": "markdown",
      "metadata": {
        "id": "QdkCSl-Sp5cm"
      },
      "source": [
        "Даже для больших матриц метод Гаусса-Зейделя\n",
        "сходиться лучше. При этом он равномерно сходиться при любых значениях, а метод Якоби быстро определяет вектор из едениц но гораздо дольше рандомный вектор."
      ]
    }
  ]
}